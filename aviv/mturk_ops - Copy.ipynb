{
 "cells": [
  {
   "cell_type": "code",
   "execution_count": 1,
   "id": "d8bafc04",
   "metadata": {},
   "outputs": [],
   "source": [
    "import boto3\n",
    "from datetime import datetime\n",
    "from xml.sax.saxutils import escape as xml_escape\n",
    "from tqdm import tqdm\n",
    "from xml.dom.minidom import parseString\n",
    "import itertools\n",
    "import json\n",
    "import qgrid\n",
    "import pandas as pd\n",
    "from boto3.exceptions import Boto3Error\n",
    "import jsonlines\n",
    "from typing import List\n",
    "from bs4 import BeautifulSoup"
   ]
  },
  {
   "cell_type": "code",
   "execution_count": null,
   "id": "2f866dd5",
   "metadata": {},
   "outputs": [],
   "source": [
    "\n",
    "is_sandbox = True\n",
    "if is_sandbox:\n",
    "    endpoint_url = 'https://mturk-requester-sandbox.us-east-1.amazonaws.com'\n",
    "else:\n",
    "    endpoint_url = 'https://mturk-requester.us-east-1.amazonaws.com'\n",
    "\n",
    "print(\"Using sandobx: \", is_sandbox)\n",
    "mturk = boto3.client('mturk', endpoint_url=endpoint_url, region_name = 'us-east-1')\n",
    "mturk.get_account_balance()"
   ]
  },
  {
   "cell_type": "markdown",
   "id": "2ee55988",
   "metadata": {},
   "source": [
    "##  Pagination for MTurk List_XYZ Methods\n"
   ]
  },
  {
   "cell_type": "code",
   "execution_count": 3,
   "id": "b839e4ab",
   "metadata": {},
   "outputs": [],
   "source": [
    "def paginate(operation, result_fn, max_results=None, **kwargs):\n",
    "    results = []\n",
    "    resp = operation(MaxResults=100, **kwargs)\n",
    "    local_results = result_fn(resp)\n",
    "    results.extend(local_results)\n",
    "    next_token = resp.get('NextToken')\n",
    "    with tqdm() as pbar:\n",
    "        while(local_results and next_token):\n",
    "            if max_results is not None and len(results) >= max_results:\n",
    "                break\n",
    "            resp = operation(MaxResults=100, NextToken=next_token, **kwargs)\n",
    "            local_results = result_fn(resp)\n",
    "            next_token = resp.get('NextToken')\n",
    "            results.extend(local_results)\n",
    "            pbar.update(len(local_results))\n",
    "    return results\n",
    "        \n",
    "        "
   ]
  },
  {
   "cell_type": "markdown",
   "id": "9638c9af",
   "metadata": {},
   "source": [
    "## Qualifications\n",
    "* More than 5000 approved hits\n",
    "* More than 98% of Approval\n",
    "* From the US, UK, Australia or New Zealand"
   ]
  },
  {
   "cell_type": "code",
   "execution_count": 4,
   "id": "23e79773",
   "metadata": {},
   "outputs": [],
   "source": [
    "# 30 days?\n",
    "ten_minutes_sec = 60*10\n",
    "one_hour_sec = 6 * ten_minutes_sec\n",
    "thirty_days_sec = 30*24*one_hour_sec\n",
    "auto_approve_after_sec = thirty_days_sec\n",
    "assign_duration = ten_minutes_sec\n",
    "\n",
    "PercentAssignmentsApproved = \"000000000000000000L0\"\n",
    "NumberHITsApproved = \"00000000000000000040\"\n",
    "Worker_Locale = \"00000000000000000071\"\n",
    "\n",
    "def create_or_get_qualification(qualification):\n",
    "    resp = mturk.list_qualification_types(Query=qualification['Name'],\n",
    "                                          MustBeOwnedByCaller=True,\n",
    "                                          MustBeRequestable=False)\n",
    "    if not resp['QualificationTypes']:\n",
    "        resp2 = mturk.create_qualification_type(**qualification)\n",
    "        qual_type_id = resp2['QualificationType']['QualificationTypeId']\n",
    "    else:\n",
    "        qual_type_id = resp['QualificationTypes'][0]['QualificationTypeId']\n",
    "    print(qualification['Name'], qual_type_id)\n",
    "    return qual_type_id\n",
    "    \n",
    "\n",
    "def get_quals(phase):\n",
    "    print(\"Listing qualifications for : \", \"Sandobx\" if is_sandbox else \"Production\")    \n",
    "    inadequate = {\n",
    "        \"Name\": \"some name\",\n",
    "        \"Description\": \"some description\",\n",
    "        \"QualificationTypeStatus\": \"Active\",\n",
    "        \"AutoGranted\": False,\n",
    "    }\n",
    "\n",
    "    in_screening = {\n",
    "        \"Name\": \"some name\",\n",
    "        \"Description\": \"some description\",\n",
    "        \"QualificationTypeStatus\": \"Active\",\n",
    "        \"AutoGranted\": False,\n",
    "    }\n",
    "    \n",
    "    in_training = {\n",
    "        \"Name\": \"some name\",\n",
    "        \"Description\": \"some description\",\n",
    "        \"QualificationTypeStatus\": \"Active\",\n",
    "        \"AutoGranted\": False,\n",
    "    }\n",
    "    \n",
    "    inadequate_type_id = create_or_get_qualification(inadequate)\n",
    "    \n",
    "    in_screening_type_id = create_or_get_qualification(in_screening)\n",
    "    \n",
    "    in_training_type_id = create_or_get_qualification(in_training)\n",
    "\n",
    "    qual_approve_percent = {\n",
    "        \"QualificationTypeId\": PercentAssignmentsApproved,\n",
    "        \"Comparator\": \"GreaterThan\",\n",
    "        \"IntegerValues\": [98]\n",
    "    }\n",
    "    qual_approve_number = {\n",
    "        \"QualificationTypeId\": NumberHITsApproved,\n",
    "        \"Comparator\": \"GreaterThan\",\n",
    "        \"IntegerValues\": [5000],\n",
    "    }\n",
    "    qual_en_locale = {\n",
    "        \"QualificationTypeId\": Worker_Locale,\n",
    "        \"Comparator\": \"In\",\n",
    "        \"LocaleValues\": [{\"Country\": \"US\"}, \n",
    "                         {\"Country\": \"AU\"}, \n",
    "                         {\"Country\": \"GB\"}, \n",
    "                         {\"Country\": \"NZ\"},\n",
    "                         {\"Country\": \"CA\"}]\n",
    "    }\n",
    "\n",
    "    qual_not_rejected = {\n",
    "        \"QualificationTypeId\": inadequate_type_id,\n",
    "        \"Comparator\": \"DoesNotExist\"\n",
    "    }\n",
    "\n",
    "    qual_not_in_screening = {\n",
    "        \"QualificationTypeId\": in_screening_type_id,\n",
    "        \"Comparator\": \"DoesNotExist\"\n",
    "    }\n",
    "    qual_in_screening = {\n",
    "        \"QualificationTypeId\": in_screening_type_id,\n",
    "        \"Comparator\": \"Exists\"\n",
    "    }\n",
    "    \n",
    "    qual_in_training = {\n",
    "        \"QualificationTypeId\": in_training_type_id,\n",
    "        \"Comparator\": \"Exists\"\n",
    "    }\n",
    "\n",
    "    \n",
    "    if is_sandbox:\n",
    "        if phase == \"train\":\n",
    "            quals = [qual_approve_percent, qual_not_rejected, qual_in_screening]\n",
    "        else:\n",
    "            quals = [qual_approve_percent, qual_not_rejected, qual_not_in_screening]\n",
    "    elif phase == \"train\":\n",
    "        quals = [qual_approve_percent, qual_approve_number, qual_en_locale, qual_not_rejected, qual_in_screening]\n",
    "        \n",
    "    return quals, inadequate_type_id, in_screening_type_id, in_training_type_id\n",
    "\n"
   ]
  },
  {
   "cell_type": "markdown",
   "id": "6c79c58c",
   "metadata": {},
   "source": [
    "##  The Task"
   ]
  },
  {
   "cell_type": "code",
   "execution_count": null,
   "id": "8ae855ea",
   "metadata": {},
   "outputs": [],
   "source": [
    "mturk.get_account_balance()"
   ]
  },
  {
   "cell_type": "code",
   "execution_count": null,
   "id": "b777b45c",
   "metadata": {},
   "outputs": [],
   "source": [
    "def create_highlighting_extraction_hit_type(phase):\n",
    "    title=\"Some title\"\n",
    "    reward_dollars = \"0.10\"\n",
    "              \n",
    "    \n",
    "    keywords=\"Some keywords\"\n",
    "    description = \"Some description\"\n",
    "\n",
    "\n",
    "    srl_quals, inadequate_type_id, in_screening_type_id, in_training_type_id = get_quals(phase)\n",
    "    response = mturk.create_hit_type(\n",
    "        AutoApprovalDelayInSeconds=thirty_days_sec,\n",
    "        AssignmentDurationInSeconds=2*ten_minutes_sec,\n",
    "        Reward=reward_dollars,\n",
    "        Title=title,\n",
    "        Keywords=keywords,\n",
    "        Description=description,\n",
    "        QualificationRequirements=srl_quals\n",
    "    )\n",
    "    srl_hit_type_id = response['HITTypeId']\n",
    "    return srl_hit_type_id, srl_quals\n",
    "\n",
    "train_srl_hit_type_id, train_srl_quals = create_highlighting_extraction_hit_type(\"train\")\n"
   ]
  },
  {
   "cell_type": "markdown",
   "id": "f2b607c6",
   "metadata": {},
   "source": [
    "## Load Assignments for Upload"
   ]
  },
  {
   "cell_type": "code",
   "execution_count": null,
   "id": "b7aff768",
   "metadata": {},
   "outputs": [],
   "source": [
    "srl_question = open(\"./srl_question.xml\").read()\n",
    "srl_df = pd.read_csv(r\"./urls.csv\")\n",
    "\n",
    "print(srl_df.sample().url.item())\n",
    "srl_data = srl_df.sample(frac=1.0).to_dict(orient='records')\n",
    "n_assigns = len(srl_data)\n",
    "half_idx = int(n_assigns/2)\n",
    "print(half_idx)\n",
    "# srl_data = srl_data[:half_idx]\n",
    "\n"
   ]
  },
  {
   "cell_type": "markdown",
   "id": "f95a9dc4",
   "metadata": {},
   "source": [
    "## Upload hits"
   ]
  },
  {
   "cell_type": "code",
   "execution_count": null,
   "id": "bc79680c",
   "metadata": {},
   "outputs": [],
   "source": [
    "mturk.get_account_balance()"
   ]
  },
  {
   "cell_type": "code",
   "execution_count": null,
   "id": "e11efda3",
   "metadata": {},
   "outputs": [],
   "source": [
    "print(\"Uploading hits to: \", \"Sandbox\" if is_sandbox else \"Production\")\n",
    "max_assigns = 1\n",
    "hit_lifetime = 7*24*6*ten_minutes_sec\n",
    "hit_resps = []\n",
    "for item in srl_data:\n",
    "    escaped_url = xml_escape(item['url'])\n",
    "    print(item['url'])\n",
    "    this_question = srl_question.format(url=escaped_url)\n",
    "    response = mturk.create_hit_with_hit_type(\n",
    "        HITTypeId=train_srl_hit_type_id,\n",
    "        MaxAssignments=max_assigns,\n",
    "        LifetimeInSeconds=hit_lifetime,\n",
    "        Question=this_question    \n",
    "    )\n",
    "    hit_resps.append(response)\n",
    "    \n",
    "    "
   ]
  },
  {
   "cell_type": "code",
   "execution_count": null,
   "id": "9de579dd",
   "metadata": {},
   "outputs": [],
   "source": [
    "mturk.get_account_balance()"
   ]
  },
  {
   "cell_type": "code",
   "execution_count": null,
   "id": "f5246885",
   "metadata": {},
   "outputs": [],
   "source": [
    "def get_all_hits(max_results):    \n",
    "    print(\"Retrieving hits from: \", \"Sandbox\" if is_sandbox else \"Production\")\n",
    "    hits = paginate(mturk.list_hits, lambda resp: resp['HITs'], max_results=max_results)\n",
    "    return hits\n",
    "\n",
    "my_hits = get_all_hits(200)\n"
   ]
  },
  {
   "cell_type": "code",
   "execution_count": null,
   "id": "7621fa33",
   "metadata": {},
   "outputs": [],
   "source": [
    "def get_reviewable_hits(hit_type_id):\n",
    "    print(\"Reviewing hits from: \", \"Sandbox\" if is_sandbox else \"Production\")\n",
    "    rev_hits = paginate(mturk.list_reviewable_hits, lambda resp: resp.get('HITs', []), HITTypeId=hit_type_id)\n",
    "    hit_ids = [h['HITId'] for h in rev_hits]\n",
    "    return hit_ids\n",
    "    \n",
    "\n",
    "def review_assignments(hit_type_id):\n",
    "    print(\"Reviewing hits from: \", \"Sandbox\" if is_sandbox else \"Production\")\n",
    "    hit_ids = get_reviewable_hits(hit_type_id)\n",
    "    assignments_for_review = assignments_for_review = retrieve_assignments(hit_type_id, hit_ids)\n",
    "    return assignments_for_review\n",
    "    \n",
    "    \n",
    "def retrieve_assignments(hit_type_id, hit_ids):    \n",
    "    assignments_for_review = []\n",
    "    for hit_id in hit_ids:\n",
    "        assignments_for_hit = paginate(mturk.list_assignments_for_hit, lambda resp: resp.get('Assignments', []), HITId=hit_id)          \n",
    "    return assignments_for_hit"
   ]
  },
  {
   "cell_type": "code",
   "execution_count": null,
   "id": "adeed12c",
   "metadata": {},
   "outputs": [],
   "source": [
    "hit_type_id = \"\" # check in my_hits \n",
    "assignments = review_assignments(hit_type_id)"
   ]
  }
 ],
 "metadata": {
  "kernelspec": {
   "display_name": "Python 3 (ipykernel)",
   "language": "python",
   "name": "python3"
  },
  "language_info": {
   "codemirror_mode": {
    "name": "ipython",
    "version": 3
   },
   "file_extension": ".py",
   "mimetype": "text/x-python",
   "name": "python",
   "nbconvert_exporter": "python",
   "pygments_lexer": "ipython3",
   "version": "3.8.0"
  }
 },
 "nbformat": 4,
 "nbformat_minor": 5
}
